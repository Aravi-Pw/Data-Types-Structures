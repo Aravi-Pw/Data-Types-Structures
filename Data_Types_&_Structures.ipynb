{
  "nbformat": 4,
  "nbformat_minor": 0,
  "metadata": {
    "colab": {
      "provenance": []
    },
    "kernelspec": {
      "name": "python3",
      "display_name": "Python 3"
    },
    "language_info": {
      "name": "python"
    }
  },
  "cells": [
    {
      "cell_type": "code",
      "execution_count": null,
      "metadata": {
        "id": "87l325uVEcr3"
      },
      "outputs": [],
      "source": []
    },
    {
      "cell_type": "markdown",
      "source": [
        "Data Types & Structures"
      ],
      "metadata": {
        "id": "W28AOLXWEzM7"
      }
    },
    {
      "cell_type": "markdown",
      "source": [
        "1. What are data structures, and why are they important\n",
        "Data structures are ways of organizing, storing, and managing data efficiently. They define how data is arranged in memory and how operations like access, insertion, deletion, and searching are performed. it is very important becuase of its various applications as below\n",
        "Efficiency\n",
        "Data Organization\n",
        "Scalability\n",
        "Code Reusability & Maintainability\n",
        "Real-World Applications\n",
        "\n",
        "2.Explain the difference between mutable and immutable data types with examples\n",
        "Mutable objects can be modified after their creation without changing their memory address.\n",
        " Example Data Types:\n",
        "\n",
        "Lists (list)\n",
        "Dictionaries (dict)\n",
        "Sets (set)\n",
        "Immutable objects cannot be modified after creation. Any operation that seems to modify them actually creates a new object.\n",
        "Example Data Types:\n",
        "\n",
        "Integers (int)\n",
        "Floats (float)\n",
        "Strings (str)\n",
        "Tuples (tuple)\n",
        "Frozen Sets (frozenset)\n",
        "Bytes (bytes)"
      ],
      "metadata": {
        "id": "cAoKfZekE2oT"
      }
    },
    {
      "cell_type": "markdown",
      "source": [
        "3. What are the main differences between lists and tuples in Python3\n",
        "\n",
        "Lists\n",
        "\n",
        "Mutable (can be modified)\n",
        "Performance is Slower (because of dynamic resizing & modifications)\n",
        "Memory Usage is Higher\n",
        "\n",
        "Tuple\n",
        "\n",
        "Immutable\n",
        "Performance is aster (fixed size, optimized for iteration)\n",
        "Memory Usage is Lower (fixed size, efficient storage)\n",
        "\n",
        "4. Describe how dictionaries store data?\n",
        "Dictionaries are used to store data values in key:value pairs. A dictionary is a collection which is ordered*, changeable and do not allow duplicates. As of Python version 3.7, dictionaries are ordered. In Python 3.6 and earlier, dictionaries are unordered."
      ],
      "metadata": {
        "id": "5rpLJUs9GXVW"
      }
    },
    {
      "cell_type": "markdown",
      "source": [
        "5.Why might you use a set instead of a list in Python?\n",
        "A set in Python is an unordered collection of unique elements that provides efficient membership testing and eliminates duplicates automatically. While lists allow duplicates and maintain order, sets are optimized for fast lookups and unique data storage.\n",
        "\n",
        "6.What is a string in Python, and how is it different from a list?\n",
        "A string in Python is a sequence of characters enclosed in single ('), double (\"), or triple quotes (''' \"\"\"). Strings are immutable, meaning they cannot be modified after creation.\n",
        "\n",
        "Use a String When:\n",
        "Storing text data\n",
        "Immutability is required\n",
        "Efficient memory usage is needed\n",
        "\n",
        "Use a List When:\n",
        "Storing multiple types of data\n",
        "Need to modify elements dynamically\n",
        "Performing list operations like sorting, appending, etc.\n",
        "\n",
        "7. How do tuples ensure data integrity in Python\n",
        "A tuple in Python is an immutable sequence. This immutability provides data integrity, ensuring that critical data remains unchanged throughout a program.\n",
        "Since tuples cannot be modified, they prevent accidental changes to important data, reducing bugs and unintended side effects.\n",
        "\n",
        "8.What is a hash table, and how does it relate to dictionaries in Python\n",
        "\n",
        "A hash table is a data structure that stores key-value pairs, where the key is used to quickly access the corresponding value through a special function called a \"hash function\"; in Python, dictionaries are essentially implemented as hash tables, meaning they use this mechanism to efficiently store and retrieve data based on unique keys.\n",
        "\n",
        " 9. Can lists contain different data types in Python\n",
        "\n",
        " a list can also contain a mix of Python types including strings, floats, and booleans.\n",
        "my_list = [42, \"hello\", 3.14, True, [1, 2, 3], {\"key\": \"value\"}]\n",
        "\n",
        "10.Explain why strings are immutable in Python\n",
        "\n",
        "In Python, strings are immutable, meaning they cannot be changed after creation. If you modify a string, a new string object is created, rather than modifying the original one."
      ],
      "metadata": {
        "id": "PP0aLhL6H2f_"
      }
    },
    {
      "cell_type": "markdown",
      "source": [
        "11. What advantages do dictionaries offer over lists for certain tasks?\n",
        "\n",
        "Dictionaries provide a significant advantage over lists when you need to quickly look up a specific value based on a unique key, as dictionaries are optimized for fast key-based retrieval, making them ideal for tasks where you need to efficiently access data using a specific identifier, unlike lists which require iterating through elements to find a match; this is especially beneficial when dealing with large datasets.\n",
        "\n",
        "12. Describe a scenario where using a tuple would be preferable over a list\n",
        "\n",
        "For example, a mapping application that stores the latitude and longitude of various locations. These coordinates should not change once assigned.\n",
        "\n",
        "Using a Tuple (Preferred)\n",
        "\n",
        "paris_coordinates = (48.8566, 2.3522)  # Immutable GPS coordinates\n",
        "✔ Ensures data integrity (coordinates cannot accidentally change)\n",
        "✔ Faster lookup performance (tuples are more efficient than lists)\n",
        "✔ Memory-efficient (tuples consume less space)\n",
        "✔ Can be used as a dictionary key\n",
        "\n",
        "Using a List (Not Ideal)\n",
        "python\n",
        "Copy\n",
        "Edit\n",
        "paris_coordinates = [48.8566, 2.3522]  # Mutable list (not recommended)\n",
        "paris_coordinates[0] = 50.0000  #  Can be mistakenly modified\n",
        " Risk of unintended modification\n",
        "Consumes more memory\n",
        "\n",
        "\n",
        "13. How Do Sets Handle Duplicate Values in Python?\n",
        "\n",
        "Sets automatically remove duplicate values because they are unordered collections of unique elements.\n",
        "14.  How does the “in” keyword work differently for lists and dictionaries\n",
        "\n",
        "The in keyword is used to check for membership in both lists and dictionaries, but it works differently\n",
        "List\n",
        "Checks if a value exists anywhere in the list\n",
        "Time complexity\n",
        "O(n) (Linear Search)\n",
        "\n",
        "Dictionary\n",
        "\n",
        "Checks if a key exists (not values)\n",
        "Time complexity\n",
        "O(1) (Constant Time Lookup)\n",
        "\n",
        "15.Can you modify the elements of a tuple? Explain why or why not\n",
        "\n",
        "Tuples are immutable in Python, meaning their elements cannot be changed, added, or removed after the tuple is created.\n",
        "Memory Efficiency – Tuples use less memory than lists.\n",
        "Performance – Since they are immutable, they are faster than lists.\n",
        "Data Integrity – Prevents accidental modifications.\n",
        "Hashability – Tuples can be dictionary keys because their hash values remain the same.\n",
        "\n",
        "Tuples are immutable to ensure stability and efficiency.\n",
        "If you need a modifiable sequence, use a list (list).\n",
        "If modification is required, create a new tuple.\n",
        "\n",
        "16. What is a nested dictionary, and give an example of its use case\n",
        "\n",
        "A nested dictionary is a dictionary inside another dictionary. It allows you to store structured data in a hierarchical format.\n",
        "\n",
        "Organized storage\n",
        "Easy retrieval of hierarchical data\n",
        "Ideal for real-world applications like school databases\n",
        "\n",
        "17.Describe the time complexity of accessing elements in a dictionary\n",
        "\n",
        "In Python, dictionaries use a hash table for storage, allowing for fast lookups, insertions, and deletions\n",
        "\n",
        "Time Complexity: O(1) (Average Case)\n",
        "\n",
        "Python hashes the key and directly finds its value in constant time.\n",
        "\n",
        "Accessing a Nested Dictionary\n",
        "\n",
        " Still O(1) per level, but multiple lookups increase total time.\n",
        "\n",
        "\n",
        "18 .In what situations are lists preferred over dictionaries?\n",
        "\n",
        "Although dictionaries are great for key-value lookups, lists are preferred in situations where:\n",
        "\n",
        "Order Matters (Lists Maintain Order, Dictionaries Don’t Always)\n",
        "Lists maintain the insertion order\n",
        "Dictionaries also maintain order, but lists are better for sequential data\n",
        "\n",
        "Lists allow O(1) access to elements by index.\n",
        "Dictionaries do not support direct indexing.\n",
        "\n",
        "Lists work well when data is a simple collection of values.\n",
        "Dictionaries are overkill for such cases\n",
        "\n",
        "Lists take up less memory than dictionaries because dictionaries store extra overhead for hashing\n",
        "\n",
        "Lists are faster for looping (O(n)), while dictionaries involve hashing overhead\n",
        "\n",
        "19. Why are dictionaries considered unordered, and how does that affect data retrieval\n",
        "\n",
        "\n",
        "Before Python 3.7, dictionaries were implemented using hash tables with no guaranteed order of key-value pairs.\n",
        "\n",
        "Keys were hashed and placed in a bucket based on the hash value.\n",
        "The insertion order was not preserved, so iterating over a dictionary could return items in any order.\n",
        " How Does Python Handle Order?\n",
        "Starting from Python 3.7, dictionaries preserve insertion order\n",
        "\n",
        "Keys appear in the same order in which they were added.\n",
        "This behavior is now officially guaranteed in Python 3.8+.\n",
        "\n",
        "Even though insertion order is preserved, dictionaries still don’t support indexing like lists because:\n",
        "\n",
        "They use hashing instead of sequential storage.\n",
        "Keys are not stored in contiguous memory locations like list elements.\n",
        "\n",
        "Dictionaries achieve O(1) time complexity for lookups because:\n",
        "\n",
        "Each key is hashed to find its memory location quickly.\n",
        "Unlike lists (O(n) search), dictionaries don’t need to scan all elements.\n",
        "\n",
        "20. Explain the difference between a list and a dictionary in terms of data retrieval\n",
        "\n",
        "A list retrieves elements using their index, making access very fast (O(1) time complexity). However, searching for a value in a list is slower (O(n)) because Python must check each item one by one. For example, in fruits = [\"apple\", \"banana\", \"cherry\"], getting \"banana\" with fruits[1] is quick, but checking if \"banana\" exists requires scanning the whole list.\n",
        "\n",
        "A dictionary, on the other hand, retrieves values using keys, making lookups much faster (O(1) on average) because it uses hashing. For example, in prices = {\"apple\": 100, \"banana\": 50, \"cherry\": 75}, accessing \"banana\" with prices[\"banana\"] is instant. However, dictionaries do not support indexing, so you can't retrieve elements by position like in a list.\n",
        "\n",
        "In short, use a list when you need ordered data and index-based access, and use a dictionary when you need fast lookups with meaningful keys. Lists are better for simple sequences, while dictionaries are ideal for storing key-value pairs."
      ],
      "metadata": {
        "id": "VnCKLnGHLXsf"
      }
    },
    {
      "cell_type": "markdown",
      "source": [
        "**Practical Questions**\n"
      ],
      "metadata": {
        "id": "FoHzXFy0TRle"
      }
    },
    {
      "cell_type": "code",
      "source": [
        "# 1.Write a code to create a string with your name and print it\n",
        "\n",
        "name = \"Aravinth S\"\n",
        "print(name)"
      ],
      "metadata": {
        "colab": {
          "base_uri": "https://localhost:8080/"
        },
        "id": "J4CN-h_OTX4W",
        "outputId": "af46949e-9e50-4b3b-84e5-9934e53137d4"
      },
      "execution_count": 2,
      "outputs": [
        {
          "output_type": "stream",
          "name": "stdout",
          "text": [
            "Aravinth S\n"
          ]
        }
      ]
    },
    {
      "cell_type": "code",
      "source": [
        "#2. Write a code to find the length of the string \"Hello World\"\n",
        "\n",
        "text = \"Hello World\"\n",
        "length = len(text)\n",
        "\n",
        "print(\"Length of the string:\", length)"
      ],
      "metadata": {
        "colab": {
          "base_uri": "https://localhost:8080/"
        },
        "id": "rSrGztptThWe",
        "outputId": "fbfd1915-1985-4da5-bde4-2fc661e7f15d"
      },
      "execution_count": 3,
      "outputs": [
        {
          "output_type": "stream",
          "name": "stdout",
          "text": [
            "Length of the string: 11\n"
          ]
        }
      ]
    },
    {
      "cell_type": "code",
      "source": [
        "# 3. Write a code to slice the first 3 characters from the string \"Python Programming\n",
        "\n",
        "text = \"Python Programming\"\n",
        "sliced_text = text[:3]  # Slicing from index 0 to 2\n",
        "print(sliced_text)\n"
      ],
      "metadata": {
        "colab": {
          "base_uri": "https://localhost:8080/"
        },
        "id": "ifFxVG1zUJ8C",
        "outputId": "fb908286-25f4-4d6b-b2df-913e4d843942"
      },
      "execution_count": 4,
      "outputs": [
        {
          "output_type": "stream",
          "name": "stdout",
          "text": [
            "Pyt\n"
          ]
        }
      ]
    },
    {
      "cell_type": "code",
      "source": [
        "#4.Write a code to convert the string \"hello\" to uppercase\n",
        "\n",
        "text = \"hello\"\n",
        "\n",
        "Upper_text = text.upper()\n",
        "print(Upper_text)"
      ],
      "metadata": {
        "colab": {
          "base_uri": "https://localhost:8080/"
        },
        "id": "tBZIGE3oUaUc",
        "outputId": "c3912b91-1966-485c-8eb7-ca15daba7b22"
      },
      "execution_count": 5,
      "outputs": [
        {
          "output_type": "stream",
          "name": "stdout",
          "text": [
            "HELLO\n"
          ]
        }
      ]
    },
    {
      "cell_type": "code",
      "source": [
        "#5.Write a code to replace the word \"apple\" with \"orange\" in the string \"I like apple\n",
        "\n",
        "text = \"I like apple\"\n",
        "change_text = text.replace(\"apple\",\"orange\")\n",
        "print(change_text)"
      ],
      "metadata": {
        "colab": {
          "base_uri": "https://localhost:8080/"
        },
        "id": "-HV_Jz5GVA00",
        "outputId": "11f7e502-299a-4f5f-f589-71954496d4cd"
      },
      "execution_count": 7,
      "outputs": [
        {
          "output_type": "stream",
          "name": "stdout",
          "text": [
            "I like orange\n"
          ]
        }
      ]
    },
    {
      "cell_type": "code",
      "source": [
        "# 6.Write a code to create a list with numbers 1 to 5 and print it\n",
        "\n",
        "numbers = [1, 2, 3, 4, 5]\n",
        "print(numbers)"
      ],
      "metadata": {
        "colab": {
          "base_uri": "https://localhost:8080/"
        },
        "id": "rF_A-pAGVmq7",
        "outputId": "34656731-c0ae-44af-baa1-0a0ee11a229e"
      },
      "execution_count": 8,
      "outputs": [
        {
          "output_type": "stream",
          "name": "stdout",
          "text": [
            "[1, 2, 3, 4, 5]\n"
          ]
        }
      ]
    },
    {
      "cell_type": "code",
      "source": [
        "# 7.Write a code to append the number 10 to the list [1, 2, 3, 4]\n",
        "\n",
        "numbers = [1, 2, 3, 4]\n",
        "numbers.append(10)\n",
        "print(numbers)\n"
      ],
      "metadata": {
        "colab": {
          "base_uri": "https://localhost:8080/"
        },
        "id": "EpQ7ybBaWY4Z",
        "outputId": "1a74ef37-bb2c-4980-e828-c904ce236881"
      },
      "execution_count": 9,
      "outputs": [
        {
          "output_type": "stream",
          "name": "stdout",
          "text": [
            "[1, 2, 3, 4, 10]\n"
          ]
        }
      ]
    },
    {
      "cell_type": "code",
      "source": [
        "# 8. Write a code to remove the number 3 from the list [1, 2, 3, 4, 5]\n",
        "\n",
        "numbers = [1, 2, 3, 4, 5]\n",
        "numbers.remove(3)\n",
        "print(numbers)\n"
      ],
      "metadata": {
        "colab": {
          "base_uri": "https://localhost:8080/"
        },
        "id": "roKBC1tpWmv3",
        "outputId": "8f9f3250-4d48-4d9c-d38c-a661d1143348"
      },
      "execution_count": 10,
      "outputs": [
        {
          "output_type": "stream",
          "name": "stdout",
          "text": [
            "[1, 2, 4, 5]\n"
          ]
        }
      ]
    },
    {
      "cell_type": "code",
      "source": [
        "# 9.Write a code to access the second element in the list ['a', 'b', 'c', 'd']\n",
        "\n",
        "letters = ['a', 'b', 'c', 'd']\n",
        "second_element = letters[1]\n",
        "print(second_element)\n"
      ],
      "metadata": {
        "colab": {
          "base_uri": "https://localhost:8080/"
        },
        "id": "6ah4wqQGXLR_",
        "outputId": "edec9f73-dcab-4f8f-99fd-c1a088c7fafc"
      },
      "execution_count": 11,
      "outputs": [
        {
          "output_type": "stream",
          "name": "stdout",
          "text": [
            "b\n"
          ]
        }
      ]
    },
    {
      "cell_type": "code",
      "source": [
        "#10. Write a code to reverse the list [10, 20, 30, 40, 50]\n",
        "\n",
        "numbers = [10, 20, 30, 40, 50]\n",
        "numbers.reverse()\n",
        "print(numbers)\n"
      ],
      "metadata": {
        "colab": {
          "base_uri": "https://localhost:8080/"
        },
        "id": "rO4gKHnYXXrW",
        "outputId": "b980d369-cf20-40a8-bb02-1fdc826a54a3"
      },
      "execution_count": 12,
      "outputs": [
        {
          "output_type": "stream",
          "name": "stdout",
          "text": [
            "[50, 40, 30, 20, 10]\n"
          ]
        }
      ]
    },
    {
      "cell_type": "code",
      "source": [
        "# 11. Write a code to create a tuple with the elements 100, 200, 300 and print it\n",
        "\n",
        "numbers = (100, 200, 300)\n",
        "print(numbers)"
      ],
      "metadata": {
        "colab": {
          "base_uri": "https://localhost:8080/"
        },
        "id": "Uad2OeSFX2ED",
        "outputId": "847a11a3-de78-49d6-85b2-8c65c5c8ba37"
      },
      "execution_count": 13,
      "outputs": [
        {
          "output_type": "stream",
          "name": "stdout",
          "text": [
            "(100, 200, 300)\n"
          ]
        }
      ]
    },
    {
      "cell_type": "code",
      "source": [
        "#12. Write a code to access the second-to-last element of the tuple ('red', 'green', 'blue', 'yellow')\n",
        "\n",
        "colors = ('red', 'green', 'blue', 'yellow')\n",
        "second_last = colors[-2]\n",
        "print(second_last)\n"
      ],
      "metadata": {
        "colab": {
          "base_uri": "https://localhost:8080/"
        },
        "id": "LHlVf5rZYaBM",
        "outputId": "41b6929c-fc84-4bc6-80a1-03708a6c35ca"
      },
      "execution_count": 14,
      "outputs": [
        {
          "output_type": "stream",
          "name": "stdout",
          "text": [
            "blue\n"
          ]
        }
      ]
    },
    {
      "cell_type": "code",
      "source": [
        "#13.  Write a code to find the minimum number in the tuple (10, 20, 5, 15)\n",
        "\n",
        "numbers = (10, 20, 5, 15)\n",
        "min_number = min(numbers)\n",
        "print(min_number)\n"
      ],
      "metadata": {
        "colab": {
          "base_uri": "https://localhost:8080/"
        },
        "id": "dV9kYIzBYtpk",
        "outputId": "be2fb7a7-4e38-4dc8-a0f9-8ca764b81968"
      },
      "execution_count": 15,
      "outputs": [
        {
          "output_type": "stream",
          "name": "stdout",
          "text": [
            "5\n"
          ]
        }
      ]
    },
    {
      "cell_type": "code",
      "source": [
        "#14.Write a code to find the index of the element \"cat\" in the tuple ('dog', 'cat', 'rabbit')\n",
        "\n",
        "animals = ('dog', 'cat', 'rabbit')\n",
        "index_of_cat = animals.index('cat')\n",
        "print(index_of_cat)\n"
      ],
      "metadata": {
        "colab": {
          "base_uri": "https://localhost:8080/"
        },
        "id": "t0AZzvH-Y6Nm",
        "outputId": "820bc636-74fb-4e9c-ad0e-282cc25d38c8"
      },
      "execution_count": 16,
      "outputs": [
        {
          "output_type": "stream",
          "name": "stdout",
          "text": [
            "1\n"
          ]
        }
      ]
    },
    {
      "cell_type": "code",
      "source": [
        "#15.Write a code to create a tuple containing three different fruits and check if \"kiwi\" is in it.\n",
        "\n",
        "fruits = (\"apple\", \"banana\", \"cherry\")\n",
        "if \"kiwi\" in fruits:\n",
        "    print(\"Kiwi is in the tuple.\")\n",
        "else:\n",
        "    print(\"Kiwi is not in the tuple.\")\n"
      ],
      "metadata": {
        "colab": {
          "base_uri": "https://localhost:8080/"
        },
        "id": "K8i6og8SZOy-",
        "outputId": "d5e51140-754f-4132-adb8-e0625da7c77f"
      },
      "execution_count": 17,
      "outputs": [
        {
          "output_type": "stream",
          "name": "stdout",
          "text": [
            "Kiwi is not in the tuple.\n"
          ]
        }
      ]
    },
    {
      "cell_type": "code",
      "source": [
        "#16. Write a code to create a set with the elements 'a', 'b', 'c' and print it\n",
        "\n",
        "my_set = {'a', 'b', 'c'}\n",
        "print(my_set)\n"
      ],
      "metadata": {
        "colab": {
          "base_uri": "https://localhost:8080/"
        },
        "id": "0m6TFk5-ZoIs",
        "outputId": "8b76d600-8703-494c-c1ce-1d25e8f3ec51"
      },
      "execution_count": 21,
      "outputs": [
        {
          "output_type": "stream",
          "name": "stdout",
          "text": [
            "{'a', 'c', 'b'}\n"
          ]
        }
      ]
    },
    {
      "cell_type": "code",
      "source": [
        "#17.  Write a code to clear all elements from the set {1, 2, 3, 4, 5}\n",
        "\n",
        "numbers = {1, 2, 3, 4, 5}\n",
        "numbers.clear()\n",
        "print(numbers)\n"
      ],
      "metadata": {
        "colab": {
          "base_uri": "https://localhost:8080/"
        },
        "id": "HWJhz3_vaDoQ",
        "outputId": "15458ba3-6762-4ca9-b421-f5683c65fae4"
      },
      "execution_count": 22,
      "outputs": [
        {
          "output_type": "stream",
          "name": "stdout",
          "text": [
            "set()\n"
          ]
        }
      ]
    },
    {
      "cell_type": "code",
      "source": [
        "#18. Write a code to remove the element 4 from the set {1, 2, 3, 4}.\n",
        "numbers = {1, 2, 3, 4}\n",
        "numbers.remove(4)\n",
        "print(numbers)\n"
      ],
      "metadata": {
        "colab": {
          "base_uri": "https://localhost:8080/"
        },
        "id": "MQlTeSNBaZEP",
        "outputId": "44e7a667-332c-4143-8a53-dde9e62fd0c9"
      },
      "execution_count": 23,
      "outputs": [
        {
          "output_type": "stream",
          "name": "stdout",
          "text": [
            "{1, 2, 3}\n"
          ]
        }
      ]
    },
    {
      "cell_type": "code",
      "source": [
        "#19.  Write a code to find the union of two sets {1, 2, 3} and {3, 4, 5}\n",
        "\n",
        "set1 = {1, 2, 3}\n",
        "set2 = {3, 4, 5}\n",
        "union_set = set1 | set2\n",
        "print(union_set)\n"
      ],
      "metadata": {
        "colab": {
          "base_uri": "https://localhost:8080/"
        },
        "id": "pI-0ij2_bCng",
        "outputId": "f3acea7a-1afd-4954-842e-3a00e7495964"
      },
      "execution_count": 24,
      "outputs": [
        {
          "output_type": "stream",
          "name": "stdout",
          "text": [
            "{1, 2, 3, 4, 5}\n"
          ]
        }
      ]
    },
    {
      "cell_type": "code",
      "source": [
        "#20. Write a code to find the intersection of two sets {1, 2, 3} and {2, 3, 4}.\n",
        "\n",
        "set1 = {1, 2, 3}\n",
        "set2 = {2, 3, 4}\n",
        "intersection_set = set1 & set2\n",
        "print(intersection_set)\n"
      ],
      "metadata": {
        "colab": {
          "base_uri": "https://localhost:8080/"
        },
        "id": "1eeg3a86bQx1",
        "outputId": "32488d36-ebf0-40cd-83aa-4b225e7ca5d7"
      },
      "execution_count": 25,
      "outputs": [
        {
          "output_type": "stream",
          "name": "stdout",
          "text": [
            "{2, 3}\n"
          ]
        }
      ]
    },
    {
      "cell_type": "code",
      "source": [
        "#21.Write a code to create a dictionary with the keys \"name\", \"age\", and \"city\", and print it.\n",
        "person = {\n",
        "    \"name\": \"Alice\",\n",
        "    \"age\": 25,\n",
        "    \"city\": \"New York\"\n",
        "}\n",
        "\n",
        "print(person)\n"
      ],
      "metadata": {
        "colab": {
          "base_uri": "https://localhost:8080/"
        },
        "id": "AeSZMHM5bjLS",
        "outputId": "f0470f05-1c1f-47ca-9983-f96b678501ce"
      },
      "execution_count": 26,
      "outputs": [
        {
          "output_type": "stream",
          "name": "stdout",
          "text": [
            "{'name': 'Alice', 'age': 25, 'city': 'New York'}\n"
          ]
        }
      ]
    },
    {
      "cell_type": "code",
      "source": [
        "#22. Write a code to add a new key-value pair \"country\": \"USA\" to the dictionary {'name': 'John', 'age': 25}\n",
        "\n",
        "person = {'name': 'John', 'age': 25}\n",
        "person['country'] = 'USA'\n",
        "print(person)\n"
      ],
      "metadata": {
        "colab": {
          "base_uri": "https://localhost:8080/"
        },
        "id": "HgjB9kjxc5DV",
        "outputId": "2c668e13-83dc-422b-95de-80a27b796bc5"
      },
      "execution_count": 27,
      "outputs": [
        {
          "output_type": "stream",
          "name": "stdout",
          "text": [
            "{'name': 'John', 'age': 25, 'country': 'USA'}\n"
          ]
        }
      ]
    },
    {
      "cell_type": "code",
      "source": [
        "#23. Write a code to access the value associated with the key \"name\" in the dictionary {'name': 'Alice', 'age': 30}\n",
        "\n",
        "person = {'name': 'Alice', 'age': 30}\n",
        "name_value = person['name']  # Accessing the value\n",
        "print(name_value)\n"
      ],
      "metadata": {
        "colab": {
          "base_uri": "https://localhost:8080/"
        },
        "id": "LuvU3I9wdYc4",
        "outputId": "695b9ceb-e85b-4d77-cb83-597ca7b15035"
      },
      "execution_count": 28,
      "outputs": [
        {
          "output_type": "stream",
          "name": "stdout",
          "text": [
            "Alice\n"
          ]
        }
      ]
    },
    {
      "cell_type": "code",
      "source": [
        "# 24. Write a code to remove the key \"age\" from the dictionary {'name': 'Bob', 'age': 22, 'city': 'New York'}.\n",
        "\n",
        "person = {'name': 'Bob', 'age': 22, 'city': 'New York'}\n",
        "del person[\"age\"]\n",
        "print(person)\n"
      ],
      "metadata": {
        "colab": {
          "base_uri": "https://localhost:8080/"
        },
        "id": "ov9uOpq-ds6y",
        "outputId": "7f773dbb-b1d0-4171-b7cd-0f85cba81b31"
      },
      "execution_count": 30,
      "outputs": [
        {
          "output_type": "stream",
          "name": "stdout",
          "text": [
            "{'name': 'Bob', 'city': 'New York'}\n"
          ]
        }
      ]
    },
    {
      "cell_type": "code",
      "source": [
        "#25. Write a code to check if the key \"city\" exists in the dictionary {'name': 'Alice', 'city': 'Paris'}.\n",
        "\n",
        "person = {'name': 'Alice', 'city': 'Paris'}\n",
        "\n",
        "if 'city' in person:\n",
        "    print(\"Key 'city' exists in the dictionary.\")\n",
        "else:\n",
        "    print(\"Key 'city' does not exist in the dictionary.\")\n"
      ],
      "metadata": {
        "colab": {
          "base_uri": "https://localhost:8080/"
        },
        "id": "TKf8qQD3eHJ5",
        "outputId": "fc7b82d8-19ad-463f-bea8-cb783f59707b"
      },
      "execution_count": 31,
      "outputs": [
        {
          "output_type": "stream",
          "name": "stdout",
          "text": [
            "Key 'city' exists in the dictionary.\n"
          ]
        }
      ]
    },
    {
      "cell_type": "code",
      "source": [
        "# 26.  Write a code to create a list, a tuple, and a dictionary, and print them all.\n",
        "\n",
        "# Creating a list\n",
        "my_list = [1, 2, 3, 4, 5]\n",
        "\n",
        "# Creating a tuple\n",
        "my_tuple = ('apple', 'banana', 'cherry')\n",
        "\n",
        "# Creating a dictionary\n",
        "my_dict = {'name': 'Alice', 'age': 25, 'city': 'New York'}\n",
        "\n",
        "# Printing them\n",
        "print(\"List:\", my_list)\n",
        "print(\"Tuple:\", my_tuple)\n",
        "print(\"Dictionary:\", my_dict)\n"
      ],
      "metadata": {
        "colab": {
          "base_uri": "https://localhost:8080/"
        },
        "id": "uyE1iqMcehT4",
        "outputId": "0491aeaa-7d50-433f-edfd-c09074fb6f57"
      },
      "execution_count": 32,
      "outputs": [
        {
          "output_type": "stream",
          "name": "stdout",
          "text": [
            "List: [1, 2, 3, 4, 5]\n",
            "Tuple: ('apple', 'banana', 'cherry')\n",
            "Dictionary: {'name': 'Alice', 'age': 25, 'city': 'New York'}\n"
          ]
        }
      ]
    },
    {
      "cell_type": "code",
      "source": [
        "#27. Write a code to create a list of 5 random numbers between 1 and 100, sort it in ascending order, and print the result.(replaced)\n",
        "\n",
        "import random\n",
        "\n",
        "# Create a list of 5 random numbers between 1 and 100\n",
        "random_numbers = [random.randint(1, 100) for _ in range(5)]\n",
        "\n",
        "# Sort the list in ascending order\n",
        "random_numbers.sort()\n",
        "\n",
        "# Print the result\n",
        "print(\"Sorted list:\", random_numbers)\n",
        "\n",
        "\n"
      ],
      "metadata": {
        "colab": {
          "base_uri": "https://localhost:8080/"
        },
        "id": "6ThBWs5geyuB",
        "outputId": "d92d6229-9789-409b-f679-ace27461606f"
      },
      "execution_count": 37,
      "outputs": [
        {
          "output_type": "stream",
          "name": "stdout",
          "text": [
            "Sorted list: [26, 53, 55, 68, 100]\n"
          ]
        }
      ]
    },
    {
      "cell_type": "code",
      "source": [
        "# 28. Write a code to create a list with strings and print the element at the third index\n",
        "\n",
        "# Creating a list with strings\n",
        "fruits = [\"apple\", \"banana\", \"cherry\", \"orange\", \"grape\"]\n",
        "\n",
        "# Accessing the element at index 3\n",
        "third_index_element = fruits[3]\n",
        "\n",
        "# Printing the result\n",
        "print(\"Element at index 3:\", third_index_element)\n"
      ],
      "metadata": {
        "colab": {
          "base_uri": "https://localhost:8080/"
        },
        "id": "fVtZwNETfP4G",
        "outputId": "c19150ac-73b2-43e1-aa67-7eb3dd75f758"
      },
      "execution_count": 38,
      "outputs": [
        {
          "output_type": "stream",
          "name": "stdout",
          "text": [
            "Element at index 3: orange\n"
          ]
        }
      ]
    },
    {
      "cell_type": "code",
      "source": [
        "# 29. Write a code to combine two dictionaries into one and print the result\n",
        "\n",
        "dict1 = {'a': 1, 'b': 2}\n",
        "dict2 = {'c': 3, 'd': 4}\n",
        "\n",
        "# Merging using |\n",
        "combined_dict = dict1 | dict2\n",
        "\n",
        "print(\"Combined Dictionary:\", combined_dict)\n"
      ],
      "metadata": {
        "colab": {
          "base_uri": "https://localhost:8080/"
        },
        "id": "xyuuC87MgEZ3",
        "outputId": "63abe30d-6fe4-4a84-f899-ed913a75ad54"
      },
      "execution_count": 39,
      "outputs": [
        {
          "output_type": "stream",
          "name": "stdout",
          "text": [
            "Combined Dictionary: {'a': 1, 'b': 2, 'c': 3, 'd': 4}\n"
          ]
        }
      ]
    },
    {
      "cell_type": "code",
      "source": [
        "# 30.  Write a code to convert a list of strings into a set\n",
        "\n",
        "# Creating a list of strings\n",
        "fruits = [\"apple\", \"banana\", \"cherry\", \"apple\", \"banana\"]\n",
        "\n",
        "# Converting the list into a set\n",
        "fruit_set = set(fruits)\n",
        "\n",
        "# Printing the result\n",
        "print(\"Set:\", fruit_set)\n"
      ],
      "metadata": {
        "colab": {
          "base_uri": "https://localhost:8080/"
        },
        "id": "gDn00MGAgcKb",
        "outputId": "684d4dbb-3625-426a-e0cf-367ec41be558"
      },
      "execution_count": 40,
      "outputs": [
        {
          "output_type": "stream",
          "name": "stdout",
          "text": [
            "Set: {'banana', 'apple', 'cherry'}\n"
          ]
        }
      ]
    },
    {
      "cell_type": "code",
      "source": [],
      "metadata": {
        "id": "9XZp9Zm0hBe3"
      },
      "execution_count": null,
      "outputs": []
    }
  ]
}